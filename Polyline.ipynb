{
 "cells": [
  {
   "cell_type": "code",
   "execution_count": 1,
   "metadata": {
    "collapsed": true
   },
   "outputs": [],
   "source": [
    "import cv2\n",
    "import numpy as np\n",
    "import matplotlib.pyplot as plt\n",
    "import matplotlib.image as mpimg\n",
    "import matplotlib.rcsetup\n",
    "matplotlib.rcParams['figure.figsize'] = (15.0, 18.0)\n",
    "matplotlib.rcParams['figure.dpi'] = 300\n",
    "%matplotlib inline"
   ]
  },
  {
   "cell_type": "code",
   "execution_count": 32,
   "metadata": {},
   "outputs": [
    {
     "data": {
      "text/plain": [
       "<matplotlib.image.AxesImage at 0x7f60cec48b70>"
      ]
     },
     "execution_count": 32,
     "metadata": {},
     "output_type": "execute_result"
    },
    {
     "data": {
      "image/png": "[encoded data removed]",
      "text/plain": [
       "<matplotlib.figure.Figure at 0x7f60d5fab828>"
      ]
     },
     "metadata": {},
     "output_type": "display_data"
    }
   ],
   "source": [
    "img = mpimg.imread('./doc_images/warp_mask_1.png')\n",
    "img = cv2.cvtColor(img, cv2.COLOR_RGB2GRAY)\n",
    "height, width = img.shape\n",
    "img = img > 0.01\n",
    "plt.imshow(img, cmap='gray')"
   ]
  },
  {
   "cell_type": "code",
   "execution_count": 164,
   "metadata": {},
   "outputs": [],
   "source": [
    "def polynomial_fit(img, show=False):\n",
    "    '''Given a warped image return a polynomial that \n",
    "       describes the curvature of the lane line'''\n",
    "    # Useful variables\n",
    "    img = cv2.cvtColor(img, cv2.COLOR_RGB2GRAY)\n",
    "    height, width = img.shape\n",
    "    midpoint = np.int(width / 2)\n",
    "    n_windows = 9\n",
    "    window_height = np.int(height / n_windows)\n",
    "\n",
    "    # Create binary image from img\n",
    "    binary_img = np.zeros_like(img)\n",
    "    binary_img[img > 0] = 1\n",
    "    out_img = np.dstack((binary_img, binary_img, binary_img))#*255\n",
    "    \n",
    "    # Create histogram to find start of lane lines\n",
    "    histogram = np.sum(binary_img[height//2:,:], axis=0)\n",
    "    left_x_base = np.argmax(histogram[:midpoint])\n",
    "    right_x_base = np.argmax(histogram[midpoint:]) + midpoint\n",
    "    \n",
    "    # Identify x,y positions of all nonzero pixels in the image\n",
    "    nonzero = binary_img.nonzero()\n",
    "    nonzero_y = np.array(nonzero[0])\n",
    "    nonzero_x = np.array(nonzero[1])\n",
    "    \n",
    "    left_x_current = left_x_base\n",
    "    right_x_current = right_x_base\n",
    "    margin = 100\n",
    "    min_pix = 50\n",
    "    \n",
    "    left_lane_inds = []\n",
    "    right_lane_inds = []\n",
    "    \n",
    "    for window in range(n_windows):\n",
    "        win_y_low = height - (window + 1)*window_height\n",
    "        win_y_high = height - window*window_height\n",
    "        win_x_left_low   = left_x_current  - margin\n",
    "        win_x_left_high  = left_x_current  + margin\n",
    "        win_x_right_low  = right_x_current - margin\n",
    "        win_x_right_high = right_x_current + margin\n",
    "        cv2.rectangle(out_img,(win_x_left_low,  win_y_low), \n",
    "                              (win_x_left_high, win_y_high), \n",
    "                              (0, 1.0, 0), 5) \n",
    "        cv2.rectangle(out_img,(win_x_right_low, win_y_low),\n",
    "                              (win_x_right_high,win_y_high),\n",
    "                              (0, 1.0, 0), 5) \n",
    "        good_left_inds =  ((nonzero_y >= win_y_low) &\n",
    "                           (nonzero_y <  win_y_high) &\n",
    "                           (nonzero_x >= win_x_left_low) &\n",
    "                           (nonzero_x <  win_x_left_high)).nonzero()[0]\n",
    "        good_right_inds = ((nonzero_y >= win_y_low) &\n",
    "                           (nonzero_y <  win_y_high) &\n",
    "                           (nonzero_x >= win_x_right_low) &\n",
    "                           (nonzero_x <  win_x_right_high)).nonzero()[0]\n",
    "        left_lane_inds.append(good_left_inds)\n",
    "        right_lane_inds.append(good_right_inds)\n",
    "        if len(good_left_inds) > min_pix:\n",
    "            left_x_current = np.int(np.mean(nonzero_x[good_left_inds]))\n",
    "        if len(good_right_inds) > min_pix:\n",
    "            right_x_current = np.int(np.mean(nonzero_x[good_right_inds]))\n",
    "    \n",
    "    left_lane_inds = np.concatenate(left_lane_inds)\n",
    "    right_lane_inds = np.concatenate(right_lane_inds)\n",
    "    \n",
    "    left_x  = nonzero_x[left_lane_inds]\n",
    "    left_y  = nonzero_y[left_lane_inds] \n",
    "    right_x = nonzero_x[right_lane_inds]\n",
    "    right_y = nonzero_y[right_lane_inds]\n",
    "    \n",
    "    plot_y = np.linspace(0, height-1, height)\n",
    "    if left_x.sum() > 0  and left_y.sum() > 0:\n",
    "        left_fit = np.polyfit(left_y, left_x, 2)\n",
    "        left_fit_x = left_fit[0]*plot_y**2 + left_fit[1]*plot_y + left_fit[2]\n",
    "        cv2.polylines\n",
    "    else:\n",
    "        print('No fit found, because no pixels found on left side')\n",
    "        left_fit = None\n",
    "        left_fit_x = None\n",
    "        show = False\n",
    "        \n",
    "    if right_x.sum() > 0 and right_y.sum() > 0:\n",
    "        right_fit = np.polyfit(right_y, right_x, 2)\n",
    "        right_fit_x = right_fit[0]*plot_y**2 + right_fit[1]*plot_y + right_fit[2]\n",
    "    else:\n",
    "        print('No fit found, because no pixels found on right side')\n",
    "        right_fit = None\n",
    "        right_fit_x = None\n",
    "        show = False\n",
    "    \n",
    "    left_rad  = radius_curvature(left_fit_x,  plot_y)\n",
    "    right_rad = radius_curvature(right_fit_x, plot_y)\n",
    "    \n",
    "    if show:\n",
    "        print('Left Lane line  {0:.02}y^2 + {1:.02}y + {2:.02}'.format(left_fit[0], \n",
    "                                                                   left_fit[1],\n",
    "                                                                   left_fit[2]))\n",
    "        print('Left lane radius of curvature {0:.02} m'.format(left_rad))\n",
    "        \n",
    "        print('Right Lane line {0:.02}y^2 + {1:.02}y + {2:.02}'.format(right_fit[0], \n",
    "                                                                       right_fit[1],\n",
    "                                                                       right_fit[2]))\n",
    "        print('Right lane radius of curvature {0:.02} m'.format(right_rad))\n",
    "        plt.imshow(out_img)\n",
    "        plt.plot(left_fit_x,  plot_y, color='yellow')\n",
    "        plt.plot(right_fit_x, plot_y, color='yellow')\n",
    "        \n",
    "    return left_fit, right_fit\n",
    "    "
   ]
  },
  {
   "cell_type": "code",
   "execution_count": 165,
   "metadata": {
    "collapsed": true
   },
   "outputs": [],
   "source": [
    "def radius_curvature(x, y):\n",
    "    y_scale = 30/720\n",
    "    x_scale = 3.7/700\n",
    "    \n",
    "    x_fit = np.polyfit(y*y_scale, x*x_scale, 2)\n",
    "    return ((1 + (2*x[0]*np.max(y)*y_scale + x[1])**2)**1.5) / np.absolute(2*x[0])"
   ]
  },
  {
   "cell_type": "code",
   "execution_count": 166,
   "metadata": {},
   "outputs": [
    {
     "name": "stdout",
     "output_type": "stream",
     "text": [
      "Left Lane line  -6e-05y^2 + 0.038y + 2e+02\n",
      "Left lane radius of curvature 4.7e+09 m\n",
      "Right Lane line -5.9e-05y^2 + 0.088y + 1.1e+03\n",
      "Right lane radius of curvature 1.3e+11 m\n"
     ]
    },
    {
     "data": {
      "image/png": "[encoded data removed]",
      "text/plain": [
       "<matplotlib.figure.Figure at 0x7f60ccca4c88>"
      ]
     },
     "metadata": {},
     "output_type": "display_data"
    }
   ],
   "source": [
    "img = mpimg.imread('./doc_images/warp_mask_1.png')\n",
    "left_lane, right_lane = polynomial_fit(img, show=True)"
   ]
  }
 ],
 "metadata": {
  "kernelspec": {
   "display_name": "Python 3",
   "language": "python",
   "name": "python3"
  },
  "language_info": {
   "codemirror_mode": {
    "name": "ipython",
    "version": 3
   },
   "file_extension": ".py",
   "mimetype": "text/x-python",
   "name": "python",
   "nbconvert_exporter": "python",
   "pygments_lexer": "ipython3",
   "version": "3.5.3"
  }
 },
 "nbformat": 4,
 "nbformat_minor": 2
}
